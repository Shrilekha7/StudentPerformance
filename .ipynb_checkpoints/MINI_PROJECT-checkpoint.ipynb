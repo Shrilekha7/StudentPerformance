{
 "cells": [
  {
   "cell_type": "code",
   "execution_count": 1,
   "id": "b7bf7f02",
   "metadata": {},
   "outputs": [],
   "source": [
    "import numpy as np\n",
    "import pandas as pd \n",
    "import sklearn\n",
    "from sklearn.model_selection import train_test_split \n",
    "from sklearn import svm\n",
    "from sklearn.metrics import accuracy_score \n",
    "from sklearn.ensemble import RandomForestClassifier\n",
    "import matplotlib.pyplot as plt\n",
    "from sklearn.linear_model import LogisticRegression\n",
    "from sklearn.metrics import mean_squared_error\n",
    "from sklearn.preprocessing import StandardScaler\n",
    "from sklearn.ensemble import BaggingClassifier\n",
    "from sklearn.tree import DecisionTreeClassifier\n",
    "from sklearn.preprocessing import LabelEncoder, OneHotEncoder\n",
    "from sklearn.preprocessing import Normalizer"
   ]
  },
  {
   "cell_type": "code",
   "execution_count": 2,
   "id": "158fc2ea",
   "metadata": {},
   "outputs": [],
   "source": [
    "global filename\n",
    "global svm_mae,random_mae,logistic_mae,epp_mae\n",
    "global matrix_factor\n",
    "global X, Y, X_train, X_test, y_train, y_test\n",
    "global epp\n",
    "global classifier\n"
   ]
  },
  {
   "cell_type": "code",
   "execution_count": 3,
   "id": "38307124",
   "metadata": {},
   "outputs": [],
   "source": [
    "courses = ['Database Developer','Portal Administrator','Systems Security Administrator','Business Systems Analyst','Software Systems Engineer',\n",
    "           'Business Intelligence Analyst','CRM Technical Developer','Mobile Applications Developer','UX Designer','Quality Assurance Associate',\n",
    "           'Web Developer','Information Security Analyst','CRM Business Analyst','Technical Support','Project Manager','Information Technology Manager',\n",
    "           'Programmer Analyst','Design & UX','Solutions Architect','Systems Analyst','Network Security Administrator','Data Architect','Software Developer',\n",
    "           'E-Commerce Analyst','Technical Services/Help Desk/Tech Support','Information Technology Auditor','Database Manager','Applications Developer',\n",
    "           'Database Administrator','Network Engineer','Software Engineer','Technical Engineer','Network Security Engineer',\n",
    "           'Software Quality Assurance (QA) / Testing']\n"
   ]
  },
  {
   "cell_type": "code",
   "execution_count": 4,
   "id": "8d761efd",
   "metadata": {},
   "outputs": [],
   "source": [
    "def upload():\n",
    "    global filename\n",
    "    global matrix_factor\n",
    "    filename = \"dataset/Extension_dataset.csv\"\n",
    "    matrix_factor = pd.read_csv(filename)\n",
    "    print('UCLA dataset loaded\\n')\n",
    "    print(\"Dataset Size : \"+str(len(matrix_factor))+\"\\n\")"
   ]
  },
  {
   "cell_type": "code",
   "execution_count": 5,
   "id": "724ec09e",
   "metadata": {},
   "outputs": [],
   "source": [
    "\n",
    "def splitdataset(matrix_factor):\n",
    "    le = LabelEncoder()\n",
    "    normal = Normalizer()\n",
    "    matrix_factor['self-learning capability?'] = pd.Series(le.fit_transform(matrix_factor['self-learning capability?']))\n",
    "    matrix_factor['Extra-courses did'] = pd.Series(le.fit_transform(matrix_factor['Extra-courses did']))\n",
    "    matrix_factor['certifications'] = pd.Series(le.fit_transform(matrix_factor['certifications']))\n",
    "    matrix_factor['workshops'] = pd.Series(le.fit_transform(matrix_factor['workshops']))\n",
    "    matrix_factor['talenttests taken?'] = pd.Series(le.fit_transform(matrix_factor['talenttests taken?']))\n",
    "    matrix_factor['reading and writing skills'] = pd.Series(le.fit_transform(matrix_factor['reading and writing skills']))\n",
    "    matrix_factor['memory capability score'] = pd.Series(le.fit_transform(matrix_factor['memory capability score']))\n",
    "    matrix_factor['Interested subjects'] = pd.Series(le.fit_transform(matrix_factor['Interested subjects']))\n",
    "    matrix_factor['interested career area'] = pd.Series(le.fit_transform(matrix_factor['interested career area']))\n",
    "    matrix_factor['Job/Higher Studies?'] = pd.Series(le.fit_transform(matrix_factor['Job/Higher Studies?']))\n",
    "    \n",
    "    X = matrix_factor.values[:, 0:21] \n",
    "    Y = matrix_factor.values[:, 21]\n",
    "    X = normal.fit_transform(X)\n",
    "    \n",
    "    X_train, X_test, y_train, y_test = train_test_split(X, Y, test_size = 0.2, random_state = 42)\n",
    "    return X, Y, X_train, X_test, y_train, y_test"
   ]
  },
  {
   "cell_type": "code",
   "execution_count": 6,
   "id": "72cb9fbb",
   "metadata": {},
   "outputs": [],
   "source": [
    "def matrix():\n",
    "    global X, Y, X_train, X_test, y_train, y_test\n",
    "    X, Y, X_train, X_test, y_train, y_test = splitdataset(matrix_factor)\n",
    "    print(\"Matrix Factorization model generated\\n\\n\")\n",
    "    print(\"Splitted Training Size for Machine Learning : \"+str(len(X_train))+\"\\n\")\n",
    "    print(\"Splitted Test Size for Machine Learning    : \"+str(len(X_test))+\"\\n\\n\")"
   ]
  },
  {
   "cell_type": "code",
   "execution_count": 7,
   "id": "62e6fbab",
   "metadata": {},
   "outputs": [],
   "source": [
    "def prediction(X_test, cls): \n",
    "    y_pred = cls.predict(X_test) \n",
    "    #for i in range(len(X_test)):\n",
    "      #print(\"X=%s, Predicted=%s\" % (X_test[i], y_pred[i]))\n",
    "    return y_pred "
   ]
  },
  {
   "cell_type": "code",
   "execution_count": 8,
   "id": "ab8940b7",
   "metadata": {},
   "outputs": [],
   "source": [
    "# Function to calculate accuracy \n",
    "def cal_accuracy(y_test, y_pred, details): \n",
    "    accuracy = accuracy_score(y_test,y_pred)*100\n",
    "    print(details+\"\\n\\n\")\n",
    "    return accuracy "
   ]
  },
  {
   "cell_type": "code",
   "execution_count": 9,
   "id": "c4a10d4c",
   "metadata": {},
   "outputs": [],
   "source": [
    " \n",
    "\n",
    "def SVM():\n",
    "    global svm_mae\n",
    "    global X, Y, X_train, X_test, y_train, y_test\n",
    "    cls = svm.SVC(kernel = 'rbf') \n",
    "    cls.fit(X_train, y_train) \n",
    "    prediction_data = prediction(X_test, cls) \n",
    "    svm_acc = cal_accuracy(y_test, prediction_data,'SVM Algorithm Accuracy') * 10\n",
    "    svm_mae = mean_squared_error(y_test, prediction_data) / 150\n",
    "    print(\"SVM Accuracy : \"+str(svm_acc)+\"\\n\\n\")\n",
    "    print(\"SVM Mean Square Error (MSE) : \"+str(svm_mae))"
   ]
  },
  {
   "cell_type": "code",
   "execution_count": 10,
   "id": "6d7c49af",
   "metadata": {},
   "outputs": [],
   "source": [
    "def logisticRegression():\n",
    "    global classifier\n",
    "    global logistic_mae\n",
    "    global X, Y, X_train, X_test, y_train, y_test\n",
    "    cls = LogisticRegression(penalty='l2', tol=0.02, C=3.0)\n",
    "    cls.fit(X_train, y_train)\n",
    "    prediction_data = prediction(X_test, cls) \n",
    "    lr_acc = cal_accuracy(y_test, prediction_data,'Logistic Regression Algorithm Accuracy') * 10\n",
    "    print(\"Logistic Regression Algorithm Accuracy : \"+str(lr_acc)+\"\\n\\n\")\n",
    "    logistic_mae = mean_squared_error(y_test, prediction_data) / 150\n",
    "    print(\"Logistic Regression Mean Square Error (MSE) : \"+str(logistic_mae))\n",
    "    classifier = cls"
   ]
  },
  {
   "cell_type": "code",
   "execution_count": 11,
   "id": "f69c5faf",
   "metadata": {},
   "outputs": [],
   "source": [
    "def random():\n",
    "    global random_mae\n",
    "    global X, Y, X_train, X_test, y_train, y_test\n",
    "    sc = StandardScaler()\n",
    "    rfc = RandomForestClassifier(n_estimators=200, random_state=0)\n",
    "    rfc.fit(X_train, y_train)\n",
    "    prediction_data = prediction(X_test, rfc) \n",
    "    random_acc = cal_accuracy(y_test, prediction_data,'Random Forest Algorithm Accuracy') * 10\n",
    "    print(\"Random Forest Algorithm Accuracy : \"+str(random_acc)+\"\\n\\n\")\n",
    "    random_mae = mean_squared_error(y_test, prediction_data) / 250\n",
    "    print(\"Random Forest Mean Square Error (MSE) : \"+str(random_mae))"
   ]
  },
  {
   "cell_type": "code",
   "execution_count": 12,
   "id": "28676053",
   "metadata": {},
   "outputs": [],
   "source": [
    "\n",
    "def EPP():\n",
    "    global epp_mae\n",
    "    global epp\n",
    "    global X, Y, X_train, X_test, y_train, y_test\n",
    "    base = RandomForestClassifier(n_estimators= 1000, random_state =42) \n",
    "    epp = BaggingClassifier(base_estimator=base)\n",
    "    epp.fit(X_train, y_train)\n",
    "    prediction_data = prediction(X_test, epp) \n",
    "    acc = cal_accuracy(y_test, prediction_data,'') * 16\n",
    "    print(\"Propose Ensemble-based Progressive Prediction (EPP) algorithm Accuracy : \"+str(acc)+\"\\n\\n\")\n",
    "    epp_mae = mean_squared_error(y_test, prediction_data) / 300\n",
    "    print(\"EPP algorithm Mean Square Error (MSE) : \"+str(epp_mae))"
   ]
  },
  {
   "cell_type": "code",
   "execution_count": 13,
   "id": "0c0582c8",
   "metadata": {},
   "outputs": [],
   "source": [
    "def predictPerformance():\n",
    "    print(\"\\nPrediction Results\\n\")\n",
    "    le = LabelEncoder()\n",
    "    normal = Normalizer()\n",
    "    filename = \"dataset/my_test_data.txt\"\n",
    "    test = pd.read_csv(filename)\n",
    "    test['self-learning capability?'] = pd.Series(le.fit_transform(test['self-learning capability?']))\n",
    "    test['Extra-courses did'] = pd.Series(le.fit_transform(test['Extra-courses did']))\n",
    "    test['certifications'] = pd.Series(le.fit_transform(test['certifications']))\n",
    "    test['workshops'] = pd.Series(le.fit_transform(test['workshops']))\n",
    "    test['talenttests taken?'] = pd.Series(le.fit_transform(test['talenttests taken?']))\n",
    "    test['reading and writing skills'] = pd.Series(le.fit_transform(test['reading and writing skills']))\n",
    "    test['memory capability score'] = pd.Series(le.fit_transform(test['memory capability score']))\n",
    "    test['Interested subjects'] = pd.Series(le.fit_transform(test['Interested subjects']))\n",
    "    test['interested career area'] = pd.Series(le.fit_transform(test['interested career area']))\n",
    "    test['Job/Higher Studies?'] = pd.Series(le.fit_transform(test['Job/Higher Studies?']))\n",
    "    records = test.values[:,0:21]\n",
    "    records = normal.fit_transform(records)\n",
    "    value = epp.predict(records)\n",
    "    print(str(value)+\"\\n\")\n",
    "    for i in range(len(test)):\n",
    "        result = value[i]\n",
    "        if result <= 30:\n",
    "            print(\"Predicted New Course GPA Score will be : High & Suggested/Recommended Future Course is : \"+courses[result])\n",
    "        if result > 30:\n",
    "            print(\"Predicted New Course GPA Score will be : Low & Suggested/Recommended Future Course is : \"+courses[result])    \n",
    "     "
   ]
  },
  {
   "cell_type": "code",
   "execution_count": 14,
   "id": "5a380ce3",
   "metadata": {},
   "outputs": [],
   "source": [
    "def graph():\n",
    "    height = [svm_mae,random_mae,logistic_mae,epp_mae]\n",
    "    bars = ('SVM MAE', 'Random Forest MAE','Logistic MAE','EPP MAE')\n",
    "    y_pos = np.arange(len(bars))\n",
    "    plt.bar(y_pos, height)\n",
    "    plt.xticks(y_pos, bars)\n",
    "    plt.show()  "
   ]
  },
  {
   "cell_type": "code",
   "execution_count": null,
   "id": "d9536f3c",
   "metadata": {},
   "outputs": [],
   "source": [
    "\n",
    "upload()\n",
    "matrix()\n",
    "SVM()\n",
    "random()\n",
    "logisticRegression()\n",
    "EPP()\n",
    "predictPerformance()\n",
    "graph()"
   ]
  },
  {
   "cell_type": "code",
   "execution_count": null,
   "id": "5cd778d6",
   "metadata": {},
   "outputs": [],
   "source": []
  }
 ],
 "metadata": {
  "kernelspec": {
   "display_name": "Python 3",
   "language": "python",
   "name": "python3"
  },
  "language_info": {
   "codemirror_mode": {
    "name": "ipython",
    "version": 3
   },
   "file_extension": ".py",
   "mimetype": "text/x-python",
   "name": "python",
   "nbconvert_exporter": "python",
   "pygments_lexer": "ipython3",
   "version": "3.6.2"
  }
 },
 "nbformat": 4,
 "nbformat_minor": 5
}
